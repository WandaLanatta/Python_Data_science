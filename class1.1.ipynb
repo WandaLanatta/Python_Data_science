{
 "cells": [
  {
   "cell_type": "code",
   "execution_count": 1,
   "metadata": {},
   "outputs": [
    {
     "name": "stdout",
     "output_type": "stream",
     "text": [
      " Fernando simich\n",
      "gerson\n"
     ]
    }
   ],
   "source": [
    "firstname = ' Fernando'\n",
    "lastname='simich'\n",
    "\n",
    "print(firstname+ ' ' + lastname)\n",
    "\n",
    "print('gerson fernando simich motta'.split(' ')[0])"
   ]
  },
  {
   "cell_type": "code",
   "execution_count": null,
   "metadata": {},
   "outputs": [],
   "source": [
    "x={'Habitacion':'Simple','Usuario':'Administrador','Cantidad':2}\n",
    "\n",
    "x['Habitacion']"
   ]
  },
  {
   "cell_type": "code",
   "execution_count": null,
   "metadata": {},
   "outputs": [],
   "source": [
    "y={'Habitacion':'Doble','Usuario':'Cliente','Cantidad':4}\n",
    "\n",
    "# for type in y:\n",
    "    # print(y[type])\n",
    "\n",
    "\n",
    "# for diccionario in y.items():\n",
    "    # print(diccionario[0])\n",
    "y_0=[]\n",
    "y_1=[]\n",
    "\n",
    "for y_items in y.items():\n",
    "    \n",
    "    y_0.append(y_items[0])\n",
    "    y_1.append(y_items[1])\n",
    "    \n",
    "\n",
    "\n",
    "print(y_0,y_1)"
   ]
  },
  {
   "cell_type": "code",
   "execution_count": null,
   "metadata": {},
   "outputs": [],
   "source": [
    "x=('simich','wanda','rose')\n",
    "\n",
    "fer,wan,rose=x\n",
    "\n",
    "print(fer)"
   ]
  }
 ],
 "metadata": {
  "kernelspec": {
   "display_name": "Python 3",
   "language": "python",
   "name": "python3"
  },
  "language_info": {
   "codemirror_mode": {
    "name": "ipython",
    "version": 3
   },
   "file_extension": ".py",
   "mimetype": "text/x-python",
   "name": "python",
   "nbconvert_exporter": "python",
   "pygments_lexer": "ipython3",
   "version": "3.11.3"
  }
 },
 "nbformat": 4,
 "nbformat_minor": 2
}
