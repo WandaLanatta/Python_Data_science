{
 "cells": [
  {
   "cell_type": "code",
   "execution_count": 1,
   "metadata": {},
   "outputs": [
    {
     "name": "stdout",
     "output_type": "stream",
     "text": [
      "3\n",
      "6\n"
     ]
    }
   ],
   "source": [
    "x=2\n",
    "y=3\n",
    "\n",
    "def addnumbers(x,y,z=None): \n",
    "    if (z==None):\n",
    "        return x+y\n",
    "    else:\n",
    "        return x+y+z\n",
    "    \n",
    "\n",
    "\n",
    "\n",
    "print(addnumbers(1,2))\n",
    "print(addnumbers(1,2,3))\n"
   ]
  },
  {
   "cell_type": "markdown",
   "metadata": {},
   "source": [
    "Variables opcionales , con z=None y flag=False or True. Es decir ppuede ser logico como en None puede haber un tipo de variable string, float, int etc."
   ]
  },
  {
   "cell_type": "code",
   "execution_count": 2,
   "metadata": {},
   "outputs": [
    {
     "name": "stdout",
     "output_type": "stream",
     "text": [
      "Flag is True\n",
      "5\n"
     ]
    }
   ],
   "source": [
    "z=4\n",
    "\n",
    "def addnumbers(x,y,z=None,flag=False):\n",
    "    if(flag):\n",
    "      print('Flag is True')\n",
    "    if (z==None):\n",
    "        return x+y\n",
    "    else:\n",
    "     return x+y+z\n",
    "print(addnumbers(x,y,flag=True))"
   ]
  },
  {
   "cell_type": "code",
   "execution_count": 3,
   "metadata": {},
   "outputs": [
    {
     "name": "stdout",
     "output_type": "stream",
     "text": [
      "Tiene tercer nombre\n",
      "Fernando SimichgersonNo agregaste 2do apellido\n",
      "Fernando Simich\n",
      "None\n",
      "Tiene tercer nombre\n",
      "Fernando SimichgersonNo agregaste 2do apellido\n",
      "Fernando Simich\n"
     ]
    }
   ],
   "source": [
    "nombre= 'Fernando'\n",
    "apellido='Simich'\n",
    "def  llenarnombre(nombre,apellido,Z=None,bool=False):\n",
    "    if (bool==True):\n",
    "        print('Tiene tercer nombre')\n",
    "    if (z!=None):\n",
    "        print(nombre+' '+ apellido+ Z + 'No agregaste 2do apellido')\n",
    "    if (z==None):\n",
    "        print(nombre+' '+ apellido+ Z + 'No agregaste 2do apellido')\n",
    "    else:\n",
    "        print(nombre+' '+ apellido)\n",
    "\n",
    "\n",
    "print(llenarnombre(nombre,apellido,'gerson',bool=True))\n",
    "\n",
    "a=llenarnombre\n",
    "a(nombre,apellido,'gerson',bool=True)"
   ]
  },
  {
   "cell_type": "code",
   "execution_count": 5,
   "metadata": {},
   "outputs": [
    {
     "data": {
      "text/plain": [
       "3"
      ]
     },
     "execution_count": 5,
     "metadata": {},
     "output_type": "execute_result"
    }
   ],
   "source": [
    "def do_math(a,b,kind='add'):\n",
    "    if(kind=='add'):\n",
    "        return a+b\n",
    "    else:\n",
    "        return a-b\n",
    "\n",
    "do_math(1,2)"
   ]
  },
  {
   "cell_type": "code",
   "execution_count": 20,
   "metadata": {},
   "outputs": [
    {
     "name": "stdout",
     "output_type": "stream",
     "text": [
      "[1, 'a', 2, 'b', 3.3]\n",
      "1\n",
      "a\n",
      "2\n",
      "b\n"
     ]
    }
   ],
   "source": [
    "x=(1,'a',2,'b')\n",
    "\n",
    "\n",
    "\n",
    "x=[1,'a',2,'b']\n",
    "x.append(3.3)\n",
    "print(x)\n",
    "\n",
    "for r in range(0,4):\n",
    "    print(x[r])\n",
    "\n",
    "\n"
   ]
  },
  {
   "cell_type": "code",
   "execution_count": 21,
   "metadata": {},
   "outputs": [
    {
     "name": "stdout",
     "output_type": "stream",
     "text": [
      "1\n",
      "a\n",
      "2\n",
      "b\n",
      "3.3\n"
     ]
    }
   ],
   "source": [
    "i=0\n",
    "\n",
    "while(i!= len(x)):\n",
    "    print(x[i])\n",
    "    i=i+1\n",
    "    "
   ]
  },
  {
   "cell_type": "code",
   "execution_count": 27,
   "metadata": {},
   "outputs": [
    {
     "name": "stdout",
     "output_type": "stream",
     "text": [
      "[1, 1, 1]\n"
     ]
    },
    {
     "data": {
      "text/plain": [
       "'g'"
      ]
     },
     "execution_count": 27,
     "metadata": {},
     "output_type": "execute_result"
    }
   ],
   "source": [
    "b=[1]*3\n",
    "\n",
    "print(b)\n",
    "\n",
    "\n",
    "x='this is a string'\n",
    "\n",
    "x[-1]"
   ]
  }
 ],
 "metadata": {
  "kernelspec": {
   "display_name": "Python 3",
   "language": "python",
   "name": "python3"
  },
  "language_info": {
   "codemirror_mode": {
    "name": "ipython",
    "version": 3
   },
   "file_extension": ".py",
   "mimetype": "text/x-python",
   "name": "python",
   "nbconvert_exporter": "python",
   "pygments_lexer": "ipython3",
   "version": "3.11.3"
  }
 },
 "nbformat": 4,
 "nbformat_minor": 2
}
